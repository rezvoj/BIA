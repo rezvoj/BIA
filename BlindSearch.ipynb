{
 "cells": [
  {
   "cell_type": "code",
   "execution_count": 1,
   "id": "60fbfb4e",
   "metadata": {},
   "outputs": [],
   "source": [
    "import matplotlib, os\n",
    "import numpy as np\n",
    "import imageio.v3 as imageio\n",
    "from IPython.display import clear_output\n",
    "from shared.Render import collect_saved_frames, render_function_point\n",
    "from shared.TestFunctions import TEST_FUNCTIONS\n",
    "matplotlib.use('Agg')\n",
    "np.random.seed(42)"
   ]
  },
  {
   "cell_type": "markdown",
   "id": "6e05ac5e",
   "metadata": {},
   "source": [
    "#### The blind search algorithm"
   ]
  },
  {
   "cell_type": "code",
   "execution_count": 2,
   "id": "daa4b8f3",
   "metadata": {},
   "outputs": [],
   "source": [
    "def blind_search(func, rnge: tuple, max_iter = 10_000_000, patience_iter = 10_000):\n",
    "    min_z, no_change_count = np.inf, 0\n",
    "    for _ in range(max_iter):\n",
    "        x = np.random.uniform(rnge[0], rnge[1])\n",
    "        y = np.random.uniform(rnge[0], rnge[1])\n",
    "        z = func((x, y))\n",
    "        if min_z > z:\n",
    "            min_z = z\n",
    "            yield (x, y)\n",
    "            no_change_count = 0\n",
    "        else:\n",
    "            no_change_count += 1\n",
    "            if no_change_count == patience_iter:\n",
    "                return"
   ]
  },
  {
   "cell_type": "markdown",
   "id": "473be5d5",
   "metadata": {},
   "source": [
    "#### Run the blind search and collect frames for multiple functions"
   ]
  },
  {
   "cell_type": "code",
   "execution_count": 3,
   "id": "ef96cc59",
   "metadata": {},
   "outputs": [],
   "source": [
    "gif_folder_path = \"gifs/blind_search\"\n",
    "os.makedirs(gif_folder_path, exist_ok=True)"
   ]
  },
  {
   "cell_type": "code",
   "execution_count": 4,
   "id": "832590aa",
   "metadata": {},
   "outputs": [],
   "source": [
    "for func, params in TEST_FUNCTIONS.items():\n",
    "    print(f\"Test function: {func.__name__}\")\n",
    "    rnge = (params[0], params[1])\n",
    "    resolution = params[2]\n",
    "    for idx, point in enumerate(blind_search(func, rnge)):\n",
    "        frame = render_function_point(func, rnge=rnge, resolution=resolution, point=point, iteration=idx)\n",
    "        imageio.imwrite(os.path.join(gif_folder_path, f\"{func.__name__}{idx:08d}.png\"), frame)\n",
    "    collect_saved_frames(gif_folder_path, f\"{str.capitalize(func.__name__)}.gif\", fps=5)\n",
    "clear_output()"
   ]
  },
  {
   "cell_type": "markdown",
   "id": "9c476e62",
   "metadata": {},
   "source": [
    "#### Visualize the blind search algorithm on multiple functions"
   ]
  },
  {
   "cell_type": "markdown",
   "id": "7ff50478",
   "metadata": {},
   "source": [
    "![Sphere](gifs/blind_search/Sphere.gif)\n",
    "![Ackley](gifs/blind_search/Ackley.gif)\n",
    "![Rastrigin](gifs/blind_search/Rastrigin.gif)\n",
    "![Rosenbrock](gifs/blind_search/Rosenbrock.gif)\n",
    "![Griewank](gifs/blind_search/Griewank.gif)\n",
    "![Schwefel](gifs/blind_search/Schwefel.gif)\n",
    "![Levy](gifs/blind_search/Levy.gif)\n",
    "![Michalewicz](gifs/blind_search/Michalewicz.gif)\n",
    "![Zakharov](gifs/blind_search/Zakharov.gif)"
   ]
  }
 ],
 "metadata": {
  "kernelspec": {
   "display_name": ".pyenv",
   "language": "python",
   "name": "python3"
  },
  "language_info": {
   "codemirror_mode": {
    "name": "ipython",
    "version": 3
   },
   "file_extension": ".py",
   "mimetype": "text/x-python",
   "name": "python",
   "nbconvert_exporter": "python",
   "pygments_lexer": "ipython3",
   "version": "3.13.7"
  }
 },
 "nbformat": 4,
 "nbformat_minor": 5
}
