{
  "cells": [
    {
      "cell_type": "code",
      "execution_count": 1,
      "id": "ea69ac3c",
      "metadata": {},
      "outputs": [],
      "source": [
        "import matplotlib, os\n",
        "import numpy as np\n",
        "import imageio.v3 as imageio\n",
        "from IPython.display import clear_output\n",
        "from shared.Render import collect_saved_frames, render_function_point\n",
        "from shared.TestFunctions import TEST_FUNCTIONS\n",
        "matplotlib.use('Agg')\n",
        "np.random.seed(42)"
      ]
    },
    {
      "cell_type": "markdown",
      "id": "c8c5b966",
      "metadata": {},
      "source": [
        "#### The particle swarm optimization algorithm"
      ]
    },
    {
      "cell_type": "code",
      "execution_count": 2,
      "id": "957de144",
      "metadata": {},
      "outputs": [],
      "source": [
        "def particle_swarm_optimization(func, rnge, pop_size=30, iterations=50, w=0.7, c1=1.5, c2=1.5):\n",
        "    v_max = 0.2 * (rnge[1] - rnge[0])\n",
        "    positions = np.random.uniform(rnge[0], rnge[1], size=(pop_size, 2))\n",
        "    velocities = np.random.uniform(-v_max, v_max, size=(pop_size, 2))\n",
        "    fitness = np.apply_along_axis(lambda pos: func(tuple(pos)), 1, positions)\n",
        "    pbest_positions = positions.copy()\n",
        "    pbest_values = fitness.copy()\n",
        "    gbest_index = np.argmin(fitness)\n",
        "    gbest_position = positions[gbest_index].copy()\n",
        "    gbest_value = fitness[gbest_index]\n",
        "    yield 0, tuple(gbest_position)\n",
        "    for iteration in range(1, iterations + 1):\n",
        "        r1 = np.random.uniform(size=(pop_size, 2))\n",
        "        r2 = np.random.uniform(size=(pop_size, 2))\n",
        "        velocities = (\n",
        "            w * velocities\n",
        "            + c1 * r1 * (pbest_positions - positions)\n",
        "            + c2 * r2 * (gbest_position - positions)\n",
        "        )\n",
        "        velocities = np.clip(velocities, -v_max, v_max)\n",
        "        positions = positions + velocities\n",
        "        positions = np.clip(positions, rnge[0], rnge[1])\n",
        "        fitness = np.apply_along_axis(lambda pos: func(tuple(pos)), 1, positions)\n",
        "        improved = fitness < pbest_values\n",
        "        pbest_positions[improved] = positions[improved]\n",
        "        pbest_values[improved] = fitness[improved]\n",
        "        best_particle = np.argmin(pbest_values)\n",
        "        if pbest_values[best_particle] < gbest_value:\n",
        "            gbest_value = pbest_values[best_particle]\n",
        "            gbest_position = pbest_positions[best_particle].copy()\n",
        "            yield iteration, tuple(gbest_position)"
      ]
    },
    {
      "cell_type": "markdown",
      "id": "80a7dc99",
      "metadata": {},
      "source": [
        "#### Run the particle swarm optimization algorithm and collect frames for multiple functions"
      ]
    },
    {
      "cell_type": "code",
      "execution_count": 3,
      "id": "ea81d3fc",
      "metadata": {},
      "outputs": [],
      "source": [
        "gif_folder_path = \"gifs/particle_swarm\"\n",
        "os.makedirs(gif_folder_path, exist_ok=True)"
      ]
    },
    {
      "cell_type": "code",
      "execution_count": 4,
      "id": "e2e9a03d",
      "metadata": {},
      "outputs": [],
      "source": [
        "for func, params in TEST_FUNCTIONS.items():\n",
        "    print(f\"Test function: {func.__name__}\")\n",
        "    rnge = (params[0], params[1])\n",
        "    resolution = params[2]\n",
        "    for idx, point in particle_swarm_optimization(func, rnge):\n",
        "        frame = render_function_point(func, rnge=rnge, resolution=resolution, point=point, iteration=idx)\n",
        "        imageio.imwrite(os.path.join(gif_folder_path, f\"{func.__name__}{idx:08d}.png\"), frame)\n",
        "    collect_saved_frames(gif_folder_path, f\"{str.capitalize(func.__name__)}.gif\", fps=5)\n",
        "clear_output()"
      ]
    },
    {
      "cell_type": "markdown",
      "id": "9a4e11ed",
      "metadata": {},
      "source": [
        "#### Visualize the particle swarm optimization algorithm on multiple functions"
      ]
    },
    {
      "cell_type": "markdown",
      "id": "bf3c6f9d",
      "metadata": {},
      "source": [
        "![Sphere](gifs/particle_swarm/Sphere.gif)\n",
        "![Ackley](gifs/particle_swarm/Ackley.gif)\n",
        "![Rastrigin](gifs/particle_swarm/Rastrigin.gif)\n",
        "![Rosenbrock](gifs/particle_swarm/Rosenbrock.gif)\n",
        "![Griewank](gifs/particle_swarm/Griewank.gif)\n",
        "![Schwefel](gifs/particle_swarm/Schwefel.gif)\n",
        "![Levy](gifs/particle_swarm/Levy.gif)\n",
        "![Michalewicz](gifs/particle_swarm/Michalewicz.gif)\n",
        "![Zakharov](gifs/particle_swarm/Zakharov.gif)"
      ]
    }
  ],
  "metadata": {
    "kernelspec": {
      "display_name": ".pyenv",
      "language": "python",
      "name": "python3"
    },
    "language_info": {
      "codemirror_mode": {
        "name": "ipython",
        "version": 3
      },
      "file_extension": ".py",
      "mimetype": "text/x-python",
      "name": "python",
      "nbconvert_exporter": "python",
      "pygments_lexer": "ipython3",
      "version": "3.13.7"
    }
  },
  "nbformat": 4,
  "nbformat_minor": 5
}
