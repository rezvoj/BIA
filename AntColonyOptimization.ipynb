{
  "cells": [
    {
      "cell_type": "code",
      "execution_count": 1,
      "id": "00e8ada6",
      "metadata": {},
      "outputs": [],
      "source": [
        "import matplotlib, os, random\n",
        "import numpy as np\n",
        "import imageio.v3 as imageio\n",
        "from shared.Render import collect_saved_frames, render_TSP\n",
        "matplotlib.use('Agg')\n",
        "np.random.seed(42)"
      ]
    },
    {
      "cell_type": "markdown",
      "id": "29916a24",
      "metadata": {},
      "source": [
        "#### Helper functions for the ant colony optimization"
      ]
    },
    {
      "cell_type": "code",
      "execution_count": 2,
      "id": "11eedfab",
      "metadata": {},
      "outputs": [],
      "source": [
        "def evalueate_TSP_path(ids: list, positions: np.ndarray):\n",
        "    distance = 0\n",
        "    for idx in range(len(ids) - 1):\n",
        "        id1, id2 = ids[idx], ids[idx + 1]\n",
        "        diff_x = positions[id1][0] - positions[id2][0]\n",
        "        diff_y = positions[id1][1] - positions[id2][1]\n",
        "        distance += np.sqrt(diff_x**2 + diff_y**2)\n",
        "    id1, id2 = ids[-1], ids[0]\n",
        "    diff_x = positions[id1][0] - positions[id2][0]\n",
        "    diff_y = positions[id1][1] - positions[id2][1]\n",
        "    distance += np.sqrt(diff_x**2 + diff_y**2)\n",
        "    return distance"
      ]
    },
    {
      "cell_type": "code",
      "execution_count": 3,
      "id": "17c88198",
      "metadata": {},
      "outputs": [],
      "source": [
        "def compute_distance_matrix(positions: np.ndarray):\n",
        "    diff = positions[:, np.newaxis, :] - positions[np.newaxis, :, :]\n",
        "    dist = np.sqrt(np.sum(diff**2, axis=2))\n",
        "    np.fill_diagonal(dist, np.inf)\n",
        "    return dist"
      ]
    },
    {
      "cell_type": "code",
      "execution_count": 4,
      "id": "a56169e1",
      "metadata": {},
      "outputs": [],
      "source": [
        "def choose_next_city(current, unvisited, pheromone, heuristic, alpha, beta):\n",
        "    candidates = list(unvisited)\n",
        "    tau = pheromone[current][candidates]\n",
        "    eta = heuristic[current][candidates]\n",
        "    weights = (tau ** alpha) * (eta ** beta)\n",
        "    total = np.sum(weights)\n",
        "    if total == 0:\n",
        "        return random.choice(candidates)\n",
        "    probabilities = weights / total\n",
        "    return np.random.choice(candidates, p=probabilities)"
      ]
    },
    {
      "cell_type": "code",
      "execution_count": 5,
      "id": "2ce31f70",
      "metadata": {},
      "outputs": [],
      "source": [
        "def update_pheromones(pheromone, paths, distances, rho, q):\n",
        "    pheromone *= (1 - rho)\n",
        "    pheromone = np.maximum(pheromone, 1e-12)\n",
        "    for path, distance in zip(paths, distances):\n",
        "        if distance == 0:\n",
        "            continue\n",
        "        deposit = q / distance\n",
        "        for idx in range(len(path)):\n",
        "            a = path[idx]\n",
        "            b = path[(idx + 1) % len(path)]\n",
        "            pheromone[a, b] += deposit\n",
        "            pheromone[b, a] += deposit\n",
        "    np.fill_diagonal(pheromone, 0.0)\n",
        "    return pheromone"
      ]
    },
    {
      "cell_type": "markdown",
      "id": "1763c296",
      "metadata": {},
      "source": [
        "#### The ant colony optimization algorithm for TSP problem"
      ]
    },
    {
      "cell_type": "code",
      "execution_count": 6,
      "id": "327a1e16",
      "metadata": {},
      "outputs": [],
      "source": [
        "def ant_colony_optimization(\n",
        "        positions: np.ndarray,\n",
        "        num_ants: int = 20,\n",
        "        num_iter: int = 100,\n",
        "        alpha: float = 1.0,\n",
        "        beta: float = 5.0,\n",
        "        rho: float = 0.5,\n",
        "        q: float = 100.0):\n",
        "    num_cities = len(positions)\n",
        "    distances = compute_distance_matrix(positions)\n",
        "    heuristic = 1.0 / distances\n",
        "    heuristic[~np.isfinite(heuristic)] = 0\n",
        "    pheromone = np.ones((num_cities, num_cities))\n",
        "    np.fill_diagonal(pheromone, 0.0)\n",
        "    best_distance = float(\"inf\")\n",
        "    for iter in range(num_iter):\n",
        "        paths = []\n",
        "        values = []\n",
        "        for ant_idx in range(num_ants):\n",
        "            start = random.randrange(num_cities)\n",
        "            path = [start]\n",
        "            unvisited = set(range(num_cities))\n",
        "            unvisited.remove(start)\n",
        "            while unvisited:\n",
        "                current = path[-1]\n",
        "                next_city = choose_next_city(current, unvisited, pheromone, heuristic, alpha, beta)\n",
        "                path.append(next_city)\n",
        "                unvisited.remove(next_city)\n",
        "            path = np.array(path)\n",
        "            path_value = evalueate_TSP_path(path, positions)\n",
        "            paths.append(path)\n",
        "            values.append(path_value)\n",
        "            improved = False\n",
        "            if path_value < best_distance:\n",
        "                best_distance = path_value\n",
        "                improved = True\n",
        "            yield iter, ant_idx, path, path_value, improved, best_distance\n",
        "        pheromone = update_pheromones(pheromone, paths, values, rho, q)"
      ]
    },
    {
      "cell_type": "markdown",
      "id": "907d3219",
      "metadata": {},
      "source": [
        "#### Generate random positions on 2D plane"
      ]
    },
    {
      "cell_type": "code",
      "execution_count": 7,
      "id": "8fecc631",
      "metadata": {},
      "outputs": [],
      "source": [
        "num_positions = 15\n",
        "positions_range = (-20, 20)\n",
        "positions = np.random.uniform(positions_range[0], positions_range[1], size=(num_positions, 2))"
      ]
    },
    {
      "cell_type": "markdown",
      "id": "c59c4556",
      "metadata": {},
      "source": [
        "#### Run the ant colony optimization and collect frames"
      ]
    },
    {
      "cell_type": "code",
      "execution_count": 8,
      "id": "d71005c4",
      "metadata": {},
      "outputs": [],
      "source": [
        "gif_folder_path = \"gifs/aco\"\n",
        "os.makedirs(gif_folder_path, exist_ok=True)"
      ]
    },
    {
      "cell_type": "code",
      "execution_count": 9,
      "id": "a615d1bf",
      "metadata": {},
      "outputs": [],
      "source": [
        "for idx, (iteration, ant_idx, tour, tour_distance, improved, best_distance) in enumerate(ant_colony_optimization(positions)):\n",
        "    if improved:\n",
        "        text = f\"Iteration: {iteration} ant {ant_idx} improved best, distance: {tour_distance:.2f}\"\n",
        "    else:\n",
        "        text = f\"Iteration: {iteration} ant {ant_idx}, distance: {tour_distance:.2f} (best: {best_distance:.2f})\"\n",
        "    frame = render_TSP(tour, positions, text)\n",
        "    imageio.imwrite(os.path.join(gif_folder_path, f\"aco{idx:08d}.png\"), frame)\n",
        "collect_saved_frames(gif_folder_path, f\"AntColony.gif\", fps=2)"
      ]
    },
    {
      "cell_type": "markdown",
      "id": "1a33241a",
      "metadata": {},
      "source": [
        "#### Visualize the ant colony optimization on the TSP problem"
      ]
    },
    {
      "cell_type": "markdown",
      "id": "1e111f4e",
      "metadata": {},
      "source": [
        "![AntColony](gifs/aco/AntColony.gif)"
      ]
    }
  ],
  "metadata": {
    "kernelspec": {
      "display_name": ".pyenv",
      "language": "python",
      "name": "python3"
    },
    "language_info": {
      "codemirror_mode": {
        "name": "ipython",
        "version": 3
      },
      "file_extension": ".py",
      "mimetype": "text/x-python",
      "name": "python",
      "nbconvert_exporter": "python",
      "pygments_lexer": "ipython3",
      "version": "3.13.7"
    }
  },
  "nbformat": 4,
  "nbformat_minor": 5
}
