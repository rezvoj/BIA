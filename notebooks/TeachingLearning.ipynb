{
  "cells": [
    {
      "cell_type": "code",
      "execution_count": 1,
      "id": "ea69ac3c",
      "metadata": {},
      "outputs": [],
      "source": [
        "import matplotlib, os\n",
        "import numpy as np\n",
        "import imageio.v3 as imageio\n",
        "from IPython.display import clear_output\n",
        "from shared.Render import collect_saved_frames, render_function_point\n",
        "from shared.TestFunctions import TEST_FUNCTIONS\n",
        "matplotlib.use('Agg')\n",
        "np.random.seed(42)"
      ]
    },
    {
      "cell_type": "markdown",
      "id": "c8c5b966",
      "metadata": {},
      "source": [
        "#### The teaching-learning based optimization algorithm"
      ]
    },
    {
      "cell_type": "code",
      "execution_count": 2,
      "id": "957de144",
      "metadata": {},
      "outputs": [],
      "source": [
        "def teaching_learning_optimization(func, rnge, pop_size=20, generations=30):\n",
        "    lower, upper = rnge\n",
        "    # Initialize population and evaluate fitness.\n",
        "    positions = np.random.uniform(lower, upper, size=(pop_size, 2))\n",
        "    fitness = np.apply_along_axis(lambda pos: func(tuple(pos)), 1, positions)\n",
        "    best_index = np.argmin(fitness)\n",
        "    best_position = positions[best_index].copy()\n",
        "    best_value = fitness[best_index]\n",
        "    improvement_id = 0\n",
        "    yield \"g0000_i00000\", tuple(best_position)\n",
        "    for generation in range(1, generations + 1):\n",
        "        # Compute mean vector and identify current teacher.\n",
        "        mean_vector = positions.mean(axis=0)\n",
        "        teacher_index = np.argmin(fitness)\n",
        "        teacher = positions[teacher_index].copy()\n",
        "        TF = np.random.randint(1, 3)\n",
        "        # Teacher phase adjusts each learner according to the teacher and population mean.\n",
        "        for i in range(pop_size):\n",
        "            r = np.random.rand(2)\n",
        "            candidate = positions[i] + r * (teacher - TF * mean_vector)\n",
        "            candidate = np.clip(candidate, lower, upper)\n",
        "            candidate_value = func(tuple(candidate))\n",
        "            if candidate_value < fitness[i]:\n",
        "                positions[i] = candidate\n",
        "                fitness[i] = candidate_value\n",
        "                if candidate_value < best_value:\n",
        "                    best_value = candidate_value\n",
        "                    best_position = candidate.copy()\n",
        "                    improvement_id += 1\n",
        "                    yield f\"g{generation:04d}_i{improvement_id:05d}\", tuple(best_position)\n",
        "        # Refresh mean vector and teacher after the teacher phase updates.\n",
        "        mean_vector = positions.mean(axis=0)\n",
        "        teacher_index = np.argmin(fitness)\n",
        "        teacher = positions[teacher_index].copy()\n",
        "        # Learner phase lets pairs of learners interact and move toward better peers.\n",
        "        for i in range(pop_size):\n",
        "            j = np.random.randint(pop_size - 1)\n",
        "            if j >= i:\n",
        "                j += 1\n",
        "            Xi = positions[i]\n",
        "            Xj = positions[j]\n",
        "            r = np.random.rand(2)\n",
        "            if fitness[i] < fitness[j]:\n",
        "                candidate = Xi + r * (Xi - Xj)\n",
        "            else:\n",
        "                candidate = Xi + r * (Xj - Xi)\n",
        "            candidate = np.clip(candidate, lower, upper)\n",
        "            candidate_value = func(tuple(candidate))\n",
        "            if candidate_value < fitness[i]:\n",
        "                positions[i] = candidate\n",
        "                fitness[i] = candidate_value\n",
        "                if candidate_value < best_value:\n",
        "                    best_value = candidate_value\n",
        "                    best_position = candidate.copy()\n",
        "                    improvement_id += 1\n",
        "                    yield f\"g{generation:04d}_i{improvement_id:05d}\", tuple(best_position)\n",
        "        # Maintain record of the best solution found so far.\n",
        "        current_best_index = np.argmin(fitness)\n",
        "        if fitness[current_best_index] < best_value:\n",
        "            best_value = fitness[current_best_index]\n",
        "            best_position = positions[current_best_index].copy()\n",
        "            improvement_id += 1\n",
        "            yield f\"g{generation:04d}_i{improvement_id:05d}\", tuple(best_position)"
      ]
    },
    {
      "cell_type": "markdown",
      "id": "80a7dc99",
      "metadata": {},
      "source": [
        "#### Run the teaching-learning based optimization algorithm and collect frames for multiple functions"
      ]
    },
    {
      "cell_type": "code",
      "execution_count": null,
      "id": "ea81d3fc",
      "metadata": {},
      "outputs": [],
      "source": [
        "gif_folder_path = \"../gifs/tlbo\"\n",
        "os.makedirs(gif_folder_path, exist_ok=True)"
      ]
    },
    {
      "cell_type": "code",
      "execution_count": 4,
      "id": "e2e9a03d",
      "metadata": {},
      "outputs": [],
      "source": [
        "for func, params in TEST_FUNCTIONS.items():\n",
        "    print(f\"Test function: {func.__name__}\")\n",
        "    rnge = (params[0], params[1])\n",
        "    resolution = params[2]\n",
        "    for idx, point in teaching_learning_optimization(func, rnge):\n",
        "        frame = render_function_point(func, rnge=rnge, resolution=resolution, point=point, iteration=idx)\n",
        "        imageio.imwrite(os.path.join(gif_folder_path, f\"{func.__name__}_{idx}.png\"), frame)\n",
        "    collect_saved_frames(gif_folder_path, f\"{str.capitalize(func.__name__)}.gif\", fps=5)\n",
        "clear_output()"
      ]
    },
    {
      "cell_type": "markdown",
      "id": "9a4e11ed",
      "metadata": {},
      "source": [
        "#### Visualize the teaching-learning based optimization algorithm on multiple functions"
      ]
    },
    {
      "cell_type": "markdown",
      "id": "bf3c6f9d",
      "metadata": {},
      "source": [
        "![Sphere](../gifs/tlbo/Sphere.gif)\n",
        "![Ackley](../gifs/tlbo/Ackley.gif)\n",
        "![Rastrigin](../gifs/tlbo/Rastrigin.gif)\n",
        "![Rosenbrock](../gifs/tlbo/Rosenbrock.gif)\n",
        "![Griewank](../gifs/tlbo/Griewank.gif)\n",
        "![Schwefel](../gifs/tlbo/Schwefel.gif)\n",
        "![Levy](../gifs/tlbo/Levy.gif)\n",
        "![Michalewicz](../gifs/tlbo/Michalewicz.gif)\n",
        "![Zakharov](../gifs/tlbo/Zakharov.gif)"
      ]
    }
  ],
  "metadata": {
    "kernelspec": {
      "display_name": ".pyenv",
      "language": "python",
      "name": "python3"
    },
    "language_info": {
      "codemirror_mode": {
        "name": "ipython",
        "version": 3
      },
      "file_extension": ".py",
      "mimetype": "text/x-python",
      "name": "python",
      "nbconvert_exporter": "python",
      "pygments_lexer": "ipython3",
      "version": "3.13.7"
    }
  },
  "nbformat": 4,
  "nbformat_minor": 5
}
