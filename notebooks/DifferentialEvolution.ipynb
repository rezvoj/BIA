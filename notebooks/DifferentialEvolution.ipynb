{
 "cells": [
  {
   "cell_type": "code",
   "execution_count": 1,
   "id": "57b4b23e",
   "metadata": {},
   "outputs": [],
   "source": [
    "import matplotlib, os\n",
    "import numpy as np\n",
    "import imageio.v3 as imageio\n",
    "from IPython.display import clear_output\n",
    "from shared.Render import collect_saved_frames, render_function_point\n",
    "from shared.TestFunctions import TEST_FUNCTIONS\n",
    "matplotlib.use('Agg')\n",
    "np.random.seed(42)"
   ]
  },
  {
   "cell_type": "markdown",
   "id": "058d51d9",
   "metadata": {},
   "source": [
    "#### The differential evolution algorithm"
   ]
  },
  {
   "cell_type": "code",
   "execution_count": 2,
   "id": "917c0a54",
   "metadata": {},
   "outputs": [],
   "source": [
    "def differential_evolution(func, rnge, num_individuals=20, iterations=20, f=0.8, cr=0.9):\n",
    "    # Initialize population uniformly within the search bounds and compute fitness\n",
    "    population = np.random.uniform(rnge[0], rnge[1], size=(num_individuals, 2))\n",
    "    values = np.apply_along_axis(lambda pos: func(tuple(pos)), 1, population)\n",
    "    for idx, point in enumerate(population):\n",
    "        yield 0, idx, tuple(point)\n",
    "    # Evolution loop over the requested number of iterations\n",
    "    for iteration in range(1, iterations + 1):\n",
    "        new_population = population.copy()\n",
    "        new_values = values.copy()\n",
    "        # Mutate, recombine, and select for each target vector\n",
    "        for i in range(num_individuals):\n",
    "            candidate_indices = np.delete(np.arange(num_individuals), i)\n",
    "            r1, r2, r3 = np.random.choice(candidate_indices, 3, replace=False)\n",
    "            # Mutation: create donor vector\n",
    "            donor = population[r3] + f * (population[r1] - population[r2])\n",
    "            donor = np.clip(donor, rnge[0], rnge[1])\n",
    "            # Crossover: binomial scheme ensures at least one donor gene\n",
    "            trial = population[i].copy()\n",
    "            j_rand = np.random.randint(2)\n",
    "            for j in range(2):\n",
    "                if np.random.uniform() < cr or j == j_rand:\n",
    "                    trial[j] = donor[j]\n",
    "            # Selection: accept the trial if it is not worse than the target\n",
    "            trial_value = func(tuple(trial))\n",
    "            if trial_value <= values[i]:\n",
    "                new_population[i] = trial\n",
    "                new_values[i] = trial_value\n",
    "                yield iteration, i, tuple(trial)\n",
    "        population = new_population\n",
    "        values = new_values"
   ]
  },
  {
   "cell_type": "markdown",
   "id": "0a16ec0e",
   "metadata": {},
   "source": [
    "#### Run the differential evolution algorithm and collect frames for multiple functions"
   ]
  },
  {
   "cell_type": "code",
   "execution_count": null,
   "id": "29608a85",
   "metadata": {},
   "outputs": [],
   "source": [
    "gif_folder_path = \"../gifs/differential_evolution\"\n",
    "os.makedirs(gif_folder_path, exist_ok=True)"
   ]
  },
  {
   "cell_type": "code",
   "execution_count": 4,
   "id": "96eacfea",
   "metadata": {},
   "outputs": [],
   "source": [
    "for func, params in TEST_FUNCTIONS.items():\n",
    "    print(f\"Test function: {func.__name__}\")\n",
    "    rnge = (params[0], params[1])\n",
    "    resolution = params[2]\n",
    "    for iter, idx, point in differential_evolution(func, rnge):\n",
    "        frame = render_function_point(func, rnge=rnge, resolution=resolution, point=point, iteration=f\"{iter} - {idx}\")\n",
    "        imageio.imwrite(os.path.join(gif_folder_path, f\"{func.__name__}{iter:08d}{idx:08d}.png\"), frame)\n",
    "    collect_saved_frames(gif_folder_path, f\"{str.capitalize(func.__name__)}.gif\", fps=5)\n",
    "clear_output()"
   ]
  },
  {
   "cell_type": "markdown",
   "id": "0d19c226",
   "metadata": {},
   "source": [
    "#### Visualize the differential evolution algorithm on multiple functions"
   ]
  },
  {
   "cell_type": "markdown",
   "id": "0844388a",
   "metadata": {},
   "source": [
    "![Sphere](../gifs/differential_evolution/Sphere.gif)\n",
    "![Ackley](../gifs/differential_evolution/Ackley.gif)\n",
    "![Rastrigin](../gifs/differential_evolution/Rastrigin.gif)\n",
    "![Rosenbrock](../gifs/differential_evolution/Rosenbrock.gif)\n",
    "![Griewank](../gifs/differential_evolution/Griewank.gif)\n",
    "![Schwefel](../gifs/differential_evolution/Schwefel.gif)\n",
    "![Levy](../gifs/differential_evolution/Levy.gif)\n",
    "![Michalewicz](../gifs/differential_evolution/Michalewicz.gif)\n",
    "![Zakharov](../gifs/differential_evolution/Zakharov.gif)"
   ]
  }
 ],
 "metadata": {
  "kernelspec": {
   "display_name": ".pyenv",
   "language": "python",
   "name": "python3"
  },
  "language_info": {
   "codemirror_mode": {
    "name": "ipython",
    "version": 3
   },
   "file_extension": ".py",
   "mimetype": "text/x-python",
   "name": "python",
   "nbconvert_exporter": "python",
   "pygments_lexer": "ipython3",
   "version": "3.13.7"
  }
 },
 "nbformat": 4,
 "nbformat_minor": 5
}
