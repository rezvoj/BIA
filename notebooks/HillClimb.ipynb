{
 "cells": [
  {
   "cell_type": "code",
   "execution_count": 1,
   "id": "b39daf03",
   "metadata": {},
   "outputs": [],
   "source": [
    "import matplotlib, os\n",
    "import numpy as np\n",
    "import imageio.v3 as imageio\n",
    "from IPython.display import clear_output\n",
    "from shared.Render import collect_saved_frames, render_function_point\n",
    "from shared.TestFunctions import TEST_FUNCTIONS\n",
    "matplotlib.use('Agg')\n",
    "np.random.seed(42)"
   ]
  },
  {
   "cell_type": "markdown",
   "id": "a58c07cf",
   "metadata": {},
   "source": [
    "#### The hill climbing algorithm"
   ]
  },
  {
   "cell_type": "code",
   "execution_count": 2,
   "id": "bbe2e257",
   "metadata": {},
   "outputs": [],
   "source": [
    "def hill_climbing(func, rnge: tuple, max_iter = 1_000_000, patience_iter = 10_000, sd = 2):\n",
    "    x = np.random.uniform(rnge[0], rnge[1])\n",
    "    y = np.random.uniform(rnge[0], rnge[1])\n",
    "    best = [x, y, func((x, y))]\n",
    "    yield (x, y)\n",
    "    no_change_count = 0\n",
    "    for _ in range(max_iter):\n",
    "        x = np.random.normal(best[0], sd)\n",
    "        y = np.random.normal(best[1], sd)\n",
    "        z = None\n",
    "        if rnge[0] <= x <= rnge[1] and rnge[0] <= y <= rnge[1]:\n",
    "            z = func((x, y))\n",
    "        if z is not None and best[2] > z:\n",
    "            best = [x, y, z]\n",
    "            yield (x, y)\n",
    "            no_change_count = 0\n",
    "        else:\n",
    "            no_change_count += 1\n",
    "            if no_change_count == patience_iter:\n",
    "                return"
   ]
  },
  {
   "cell_type": "markdown",
   "id": "899b3337",
   "metadata": {},
   "source": [
    "#### Run the hill climbing and collect frames for multiple functions"
   ]
  },
  {
   "cell_type": "code",
   "execution_count": null,
   "id": "ad9e6d48",
   "metadata": {},
   "outputs": [],
   "source": [
    "gif_folder_path = \"../gifs/hill_climb\"\n",
    "os.makedirs(gif_folder_path, exist_ok=True)"
   ]
  },
  {
   "cell_type": "code",
   "execution_count": 4,
   "id": "bbe34e98",
   "metadata": {},
   "outputs": [],
   "source": [
    "for func, params in TEST_FUNCTIONS.items():\n",
    "    print(f\"Test function: {func.__name__}\")\n",
    "    rnge = (params[0], params[1])\n",
    "    resolution = params[2]\n",
    "    for idx, point in enumerate(hill_climbing(func, rnge)):\n",
    "        frame = render_function_point(func, rnge=rnge, resolution=resolution, point=point, iteration=idx)\n",
    "        imageio.imwrite(os.path.join(gif_folder_path, f\"{func.__name__}{idx:08d}.png\"), frame)\n",
    "    collect_saved_frames(gif_folder_path, f\"{str.capitalize(func.__name__)}.gif\", fps=5)\n",
    "clear_output()"
   ]
  },
  {
   "cell_type": "markdown",
   "id": "f0b638c8",
   "metadata": {},
   "source": [
    "#### Visualize the hill climbing algorithm on multiple functions"
   ]
  },
  {
   "cell_type": "markdown",
   "id": "a5a954c8",
   "metadata": {},
   "source": [
    "![Sphere](../gifs/hill_climb/Sphere.gif)\n",
    "![Ackley](../gifs/hill_climb/Ackley.gif)\n",
    "![Rastrigin](../gifs/hill_climb/Rastrigin.gif)\n",
    "![Rosenbrock](../gifs/hill_climb/Rosenbrock.gif)\n",
    "![Griewank](../gifs/hill_climb/Griewank.gif)\n",
    "![Schwefel](../gifs/hill_climb/Schwefel.gif)\n",
    "![Levy](../gifs/hill_climb/Levy.gif)\n",
    "![Michalewicz](../gifs/hill_climb/Michalewicz.gif)\n",
    "![Zakharov](../gifs/hill_climb/Zakharov.gif)"
   ]
  }
 ],
 "metadata": {
  "kernelspec": {
   "display_name": ".pyenv",
   "language": "python",
   "name": "python3"
  },
  "language_info": {
   "codemirror_mode": {
    "name": "ipython",
    "version": 3
   },
   "file_extension": ".py",
   "mimetype": "text/x-python",
   "name": "python",
   "nbconvert_exporter": "python",
   "pygments_lexer": "ipython3",
   "version": "3.13.7"
  }
 },
 "nbformat": 4,
 "nbformat_minor": 5
}
