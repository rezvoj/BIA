{
 "cells": [
  {
   "cell_type": "code",
   "execution_count": 1,
   "id": "ea69ac3c",
   "metadata": {},
   "outputs": [],
   "source": [
    "import matplotlib, os\n",
    "import numpy as np\n",
    "import imageio.v3 as imageio\n",
    "from IPython.display import clear_output\n",
    "from shared.Render import collect_saved_frames, render_function_point\n",
    "from shared.TestFunctions import TEST_FUNCTIONS\n",
    "matplotlib.use('Agg')\n",
    "np.random.seed(42)"
   ]
  },
  {
   "cell_type": "markdown",
   "id": "c8c5b966",
   "metadata": {},
   "source": [
    "#### The simulated annealing algorithm"
   ]
  },
  {
   "cell_type": "code",
   "execution_count": 2,
   "id": "957de144",
   "metadata": {},
   "outputs": [],
   "source": [
    "def simulated_annealing(func, rnge: tuple, sd = 1, t0 = 100, t_min = 0.5, alpha = 0.95):\n",
    "    t = t0\n",
    "    x = np.random.uniform(rnge[0], rnge[1])\n",
    "    y = np.random.uniform(rnge[0], rnge[1])\n",
    "    best = [x, y, func((x, y))]\n",
    "    yield (x, y)\n",
    "    while t > t_min:\n",
    "        x = np.random.normal(best[0], sd)\n",
    "        y = np.random.normal(best[1], sd)\n",
    "        if not (rnge[0] <= x <= rnge[1] and rnge[0] <= y <= rnge[1]):\n",
    "            continue\n",
    "        z = func((x, y))\n",
    "        if best[2] > z:\n",
    "            best = [x, y, z]\n",
    "            yield (x, y)\n",
    "        else:\n",
    "            if np.random.uniform(0, 1) < pow(np.e, -(z - best[2]) / t):\n",
    "                best = [x, y, z]\n",
    "                yield (x, y)\n",
    "        t = t * alpha"
   ]
  },
  {
   "cell_type": "markdown",
   "id": "80a7dc99",
   "metadata": {},
   "source": [
    "#### Run the simulated annealing algorithm and collect frames for multiple functions"
   ]
  },
  {
   "cell_type": "code",
   "execution_count": null,
   "id": "ea81d3fc",
   "metadata": {},
   "outputs": [],
   "source": [
    "gif_folder_path = \"../gifs/simulated_annealing\"\n",
    "os.makedirs(gif_folder_path, exist_ok=True)"
   ]
  },
  {
   "cell_type": "code",
   "execution_count": 4,
   "id": "e2e9a03d",
   "metadata": {},
   "outputs": [],
   "source": [
    "for func, params in TEST_FUNCTIONS.items():\n",
    "    print(f\"Test function: {func.__name__}\")\n",
    "    rnge = (params[0], params[1])\n",
    "    resolution = params[2]\n",
    "    for idx, point in enumerate(simulated_annealing(func, rnge)):\n",
    "        frame = render_function_point(func, rnge=rnge, resolution=resolution, point=point, iteration=idx)\n",
    "        imageio.imwrite(os.path.join(gif_folder_path, f\"{func.__name__}{idx:08d}.png\"), frame)\n",
    "    collect_saved_frames(gif_folder_path, f\"{str.capitalize(func.__name__)}.gif\", fps=5)\n",
    "clear_output()"
   ]
  },
  {
   "cell_type": "markdown",
   "id": "9a4e11ed",
   "metadata": {},
   "source": [
    "#### Visualize the simulated annealing algorithm on multiple functions"
   ]
  },
  {
   "cell_type": "markdown",
   "id": "bf3c6f9d",
   "metadata": {},
   "source": [
    "![Sphere](../gifs/simulated_annealing/Sphere.gif)\n",
    "![Ackley](../gifs/simulated_annealing/Ackley.gif)\n",
    "![Rastrigin](../gifs/simulated_annealing/Rastrigin.gif)\n",
    "![Rosenbrock](../gifs/simulated_annealing/Rosenbrock.gif)\n",
    "![Griewank](../gifs/simulated_annealing/Griewank.gif)\n",
    "![Schwefel](../gifs/simulated_annealing/Schwefel.gif)\n",
    "![Levy](../gifs/simulated_annealing/Levy.gif)\n",
    "![Michalewicz](../gifs/simulated_annealing/Michalewicz.gif)\n",
    "![Zakharov](../gifs/simulated_annealing/Zakharov.gif)"
   ]
  }
 ],
 "metadata": {
  "kernelspec": {
   "display_name": ".pyenv",
   "language": "python",
   "name": "python3"
  },
  "language_info": {
   "codemirror_mode": {
    "name": "ipython",
    "version": 3
   },
   "file_extension": ".py",
   "mimetype": "text/x-python",
   "name": "python",
   "nbconvert_exporter": "python",
   "pygments_lexer": "ipython3",
   "version": "3.13.7"
  }
 },
 "nbformat": 4,
 "nbformat_minor": 5
}
