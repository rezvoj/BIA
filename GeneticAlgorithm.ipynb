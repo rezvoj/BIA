{
 "cells": [
  {
   "cell_type": "code",
   "execution_count": 9,
   "id": "00e8ada6",
   "metadata": {},
   "outputs": [],
   "source": [
    "import matplotlib, os, random\n",
    "import numpy as np\n",
    "import imageio.v3 as imageio\n",
    "from shared.Render import collect_saved_frames, render_TSP\n",
    "matplotlib.use('Agg')\n",
    "np.random.seed(42)"
   ]
  },
  {
   "cell_type": "markdown",
   "id": "29916a24",
   "metadata": {},
   "source": [
    "#### Helper functions for the genetic algorithm"
   ]
  },
  {
   "cell_type": "code",
   "execution_count": 10,
   "id": "11eedfab",
   "metadata": {},
   "outputs": [],
   "source": [
    "def evalueate_TSP_path(ids: list, positions: np.ndarray):\n",
    "    distance = 0\n",
    "    for idx in range(len(ids) - 1):\n",
    "        id1, id2 = ids[idx], ids[idx + 1]\n",
    "        diff_x = positions[id1][0] - positions[id2][0]\n",
    "        diff_y = positions[id1][1] - positions[id2][1]\n",
    "        distance += np.sqrt(diff_x**2 + diff_y**2)\n",
    "    id1, id2 = ids[-1], ids[0]\n",
    "    diff_x = positions[id1][0] - positions[id2][0]\n",
    "    diff_y = positions[id1][1] - positions[id2][1]\n",
    "    distance += np.sqrt(diff_x**2 + diff_y**2)\n",
    "    return distance"
   ]
  },
  {
   "cell_type": "code",
   "execution_count": 11,
   "id": "a56169e1",
   "metadata": {},
   "outputs": [],
   "source": [
    "def crossover(parent_A: list, parent_B: list):\n",
    "    offspring_AB = list(parent_A[:(len(parent_A) + 1) // 2])\n",
    "    selected = set(offspring_AB)\n",
    "    for id in parent_B:\n",
    "        if id not in selected:\n",
    "            offspring_AB.append(id)\n",
    "    return np.array(offspring_AB)"
   ]
  },
  {
   "cell_type": "code",
   "execution_count": 12,
   "id": "2ce31f70",
   "metadata": {},
   "outputs": [],
   "source": [
    "def mutate(offspring_AB: list):\n",
    "    a, b = random.sample(range(len(offspring_AB)), 2)\n",
    "    offspring_AB[a], offspring_AB[b] = offspring_AB[b], offspring_AB[a]\n",
    "    return offspring_AB"
   ]
  },
  {
   "cell_type": "markdown",
   "id": "1763c296",
   "metadata": {},
   "source": [
    "#### The genetic algorithm for TSP problem"
   ]
  },
  {
   "cell_type": "code",
   "execution_count": 13,
   "id": "327a1e16",
   "metadata": {},
   "outputs": [],
   "source": [
    "def genetic_algorithm(\n",
    "        positions: np.ndarray,\n",
    "        num_individuals: int = 20,\n",
    "        num_iter: int = 200):\n",
    "    population = [np.random.permutation(len(positions)) for _ in range(num_individuals)]\n",
    "    values = [evalueate_TSP_path(individual, positions) for individual in population]\n",
    "    for parent_idx in range(num_individuals):\n",
    "        yield None, parent_idx, None, population[parent_idx], values[parent_idx], False\n",
    "    for iter in range(num_iter):\n",
    "        new_population = population.copy()\n",
    "        new_values = values.copy()\n",
    "        for parent_A_idx in range(num_individuals):\n",
    "            parent_B_idx = random.sample(range(num_individuals), 1)[0]\n",
    "            offspring_AB = crossover(population[parent_A_idx], population[parent_B_idx])\n",
    "            mutated = False\n",
    "            if np.random.uniform() < 0.5:\n",
    "                offspring_AB = mutate(offspring_AB)\n",
    "                mutated = True\n",
    "            offspring_value = evalueate_TSP_path(offspring_AB, positions)\n",
    "            if offspring_value < values[parent_A_idx]:\n",
    "                new_population[parent_A_idx] = offspring_AB\n",
    "                new_values[parent_A_idx] = offspring_value\n",
    "                yield iter, parent_A_idx, parent_B_idx, offspring_AB, offspring_value, mutated\n",
    "        population = new_population\n",
    "        values = new_values"
   ]
  },
  {
   "cell_type": "markdown",
   "id": "907d3219",
   "metadata": {},
   "source": [
    "#### Generate random positions on 2D plane"
   ]
  },
  {
   "cell_type": "code",
   "execution_count": 14,
   "id": "8fecc631",
   "metadata": {},
   "outputs": [],
   "source": [
    "num_positions = 15\n",
    "positions_range = (-20, 20)\n",
    "positions = np.random.uniform(positions_range[0], positions_range[1], size=(num_positions, 2))"
   ]
  },
  {
   "cell_type": "markdown",
   "id": "c59c4556",
   "metadata": {},
   "source": [
    "#### Run the blind search and collect frames"
   ]
  },
  {
   "cell_type": "code",
   "execution_count": 15,
   "id": "d71005c4",
   "metadata": {},
   "outputs": [],
   "source": [
    "gif_folder_path = \"gifs/genetic\"\n",
    "os.makedirs(gif_folder_path, exist_ok=True)"
   ]
  },
  {
   "cell_type": "code",
   "execution_count": 16,
   "id": "a615d1bf",
   "metadata": {},
   "outputs": [],
   "source": [
    "for idx, (iter, parent_A_idx, parent_B_idx, offspring, offspring_value, mutated) in enumerate(genetic_algorithm(positions)):\n",
    "    if iter is None:\n",
    "        text = f\"Original individual {parent_A_idx}, distance: {offspring_value:.2f}\"\n",
    "    else:\n",
    "        mutated_text = \"_mutated\" if mutated else \"\"\n",
    "        text = f\"Iteation: {iter} offspring {parent_A_idx}_{parent_B_idx}{mutated_text}, distance: {offspring_value}\"\n",
    "    frame = render_TSP(offspring, positions, text)\n",
    "    imageio.imwrite(os.path.join(gif_folder_path, f\"genetic{idx:08d}.png\"), frame)\n",
    "collect_saved_frames(gif_folder_path, f\"Genetic.gif\", fps=2)"
   ]
  },
  {
   "cell_type": "markdown",
   "id": "1a33241a",
   "metadata": {},
   "source": [
    "#### Visualize the genetic algorithm on the TSP problem"
   ]
  },
  {
   "cell_type": "markdown",
   "id": "1e111f4e",
   "metadata": {},
   "source": [
    "![Genetic](gifs/genetic/Genetic.gif)"
   ]
  }
 ],
 "metadata": {
  "kernelspec": {
   "display_name": ".pyenv",
   "language": "python",
   "name": "python3"
  },
  "language_info": {
   "codemirror_mode": {
    "name": "ipython",
    "version": 3
   },
   "file_extension": ".py",
   "mimetype": "text/x-python",
   "name": "python",
   "nbconvert_exporter": "python",
   "pygments_lexer": "ipython3",
   "version": "3.13.7"
  }
 },
 "nbformat": 4,
 "nbformat_minor": 5
}
