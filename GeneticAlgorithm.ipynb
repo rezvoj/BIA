{
 "cells": [
  {
   "cell_type": "code",
   "execution_count": null,
   "id": "00e8ada6",
   "metadata": {},
   "outputs": [],
   "source": [
    "import matplotlib, os, random\n",
    "import numpy as np\n",
    "import imageio.v3 as imageio\n",
    "from IPython.display import clear_output\n",
    "from shared.Render import collect_saved_frames, render_TSP\n",
    "from shared.TestFunctions import TEST_FUNCTIONS\n",
    "matplotlib.use('Agg')\n",
    "np.random.seed(42)"
   ]
  },
  {
   "cell_type": "markdown",
   "id": "29916a24",
   "metadata": {},
   "source": [
    "#### Helper functions for the genetic algorithm"
   ]
  },
  {
   "cell_type": "code",
   "execution_count": 3,
   "id": "11eedfab",
   "metadata": {},
   "outputs": [],
   "source": [
    "def evalueate_TSP_path(ids: list, positions: np.ndarray):\n",
    "    distance = 0\n",
    "    for idx in len(ids) - 1:\n",
    "        id1, id2 = ids[idx], ids[idx] + 1\n",
    "        diff_x = positions[id1][0] - positions[id2][0]\n",
    "        diff_y = positions[id1][1] - positions[id2][1]\n",
    "        distance += np.sqrt(diff_x + diff_y)\n",
    "    id1, id2 = ids[-1], ids[0]\n",
    "    diff_x = positions[id1][0] - positions[id2][0]\n",
    "    diff_y = positions[id1][1] - positions[id2][1]\n",
    "    distance += np.sqrt(diff_x + diff_y)\n",
    "    return distance"
   ]
  },
  {
   "cell_type": "code",
   "execution_count": null,
   "id": "a56169e1",
   "metadata": {},
   "outputs": [],
   "source": [
    "def crossover(parent_A: list, parent_B: list):\n",
    "    offspring_AB = parent_A[:(len(parent_A) + 1) // 2]\n",
    "    selected = dict(offspring_AB)\n",
    "    for id in parent_B:\n",
    "        if id not in selected:\n",
    "            offspring_AB.append(id)\n",
    "    return offspring_AB"
   ]
  },
  {
   "cell_type": "code",
   "execution_count": null,
   "id": "2ce31f70",
   "metadata": {},
   "outputs": [],
   "source": [
    "def mutate(offspring_AB: list):\n",
    "    a, b = random.sample(range(len(offspring_AB)), 2)\n",
    "    offspring_AB[a], offspring_AB[b] = offspring_AB[b], offspring_AB[a]\n",
    "    return offspring_AB"
   ]
  },
  {
   "cell_type": "markdown",
   "id": "1763c296",
   "metadata": {},
   "source": [
    "#### The genetic algorithm for TSP problem"
   ]
  },
  {
   "cell_type": "code",
   "execution_count": null,
   "id": "327a1e16",
   "metadata": {},
   "outputs": [],
   "source": [
    "def genetic_algorithm(\n",
    "        positions: np.ndarray,\n",
    "        num_individuals: int = 20,\n",
    "        num_iter: int = 200):\n",
    "    population = [np.random.permutation(20) for _ in range(num_individuals)]\n",
    "    values = [evalueate_TSP_path(individual, positions) for individual in population]\n",
    "    for parent_idx in range(num_individuals):\n",
    "        yield None, parent_idx, None, population[parent_idx], values[parent_idx], False\n",
    "    for iter in range(num_iter):\n",
    "        new_population = population.copy()\n",
    "        new_values = values.copy()\n",
    "        for parent_A_idx in range(num_individuals):\n",
    "            parent_B_idx = random.sample(range(num_individuals), 1)\n",
    "            offspring_AB = crossover(population[parent_A_idx], population[parent_B_idx])\n",
    "            mutated = False\n",
    "            if np.random.uniform() < 0.5:\n",
    "                offspring_AB = mutate(offspring_AB)\n",
    "                mutated = True\n",
    "            offspring_value = evalueate_TSP_path(offspring_AB, positions)\n",
    "            if offspring_value < values[parent_A_idx]:\n",
    "                new_population[parent_A_idx] = offspring_AB\n",
    "                new_values[new_values] = offspring_value\n",
    "                yield iter, parent_A_idx, parent_B_idx, offspring_AB, offspring_value, mutated\n",
    "        population = new_population"
   ]
  },
  {
   "cell_type": "markdown",
   "id": "907d3219",
   "metadata": {},
   "source": [
    "#### Generate random positions on 2D plane"
   ]
  },
  {
   "cell_type": "code",
   "execution_count": 6,
   "id": "8fecc631",
   "metadata": {},
   "outputs": [],
   "source": [
    "num_positions = 20\n",
    "positions_range = (-20, 20)\n",
    "positions = np.random.uniform(positions_range[0], positions_range[1], size=(num_positions, 2))"
   ]
  },
  {
   "cell_type": "markdown",
   "id": "b59e074f",
   "metadata": {},
   "source": []
  },
  {
   "cell_type": "code",
   "execution_count": 2,
   "id": "0324c292",
   "metadata": {},
   "outputs": [],
   "source": [
    "pts = [(3.2, 5.2, 1), (1.7, 2.2, 3), (4.1, 3.6, 2)]\n",
    "frame = render_TSP(pts, title=\"Demo: Points connected by arrows\")\n",
    "os.mkdir(\"gifs/genetic\")\n",
    "imageio.imwrite(os.path.join(\"gifs/genetic\", f\"genetic{1:08d}.png\"), frame)"
   ]
  }
 ],
 "metadata": {
  "kernelspec": {
   "display_name": ".pyenv",
   "language": "python",
   "name": "python3"
  },
  "language_info": {
   "codemirror_mode": {
    "name": "ipython",
    "version": 3
   },
   "file_extension": ".py",
   "mimetype": "text/x-python",
   "name": "python",
   "nbconvert_exporter": "python",
   "pygments_lexer": "ipython3",
   "version": "3.13.7"
  }
 },
 "nbformat": 4,
 "nbformat_minor": 5
}
