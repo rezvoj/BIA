{
  "cells": [
    {
      "cell_type": "code",
      "execution_count": 1,
      "id": "ea69ac3c",
      "metadata": {},
      "outputs": [],
      "source": [
        "import matplotlib, os\n",
        "import numpy as np\n",
        "import imageio.v3 as imageio\n",
        "from IPython.display import clear_output\n",
        "from shared.Render import collect_saved_frames, render_function_point\n",
        "from shared.TestFunctions import TEST_FUNCTIONS\n",
        "matplotlib.use('Agg')\n",
        "np.random.seed(42)"
      ]
    },
    {
      "cell_type": "markdown",
      "id": "c8c5b966",
      "metadata": {},
      "source": [
        "#### The firefly algorithm"
      ]
    },
    {
      "cell_type": "code",
      "execution_count": 2,
      "id": "957de144",
      "metadata": {},
      "outputs": [],
      "source": [
        "def firefly_algorithm(\n",
        "        func, rnge,\n",
        "        pop_size=30,\n",
        "        generations=200,\n",
        "        beta0=1.0,\n",
        "        gamma=1.0,\n",
        "        alpha=0.25,\n",
        "        alpha_decay=0.97):\n",
        "    # Initialize population and evaluate initial brightness (fitness)\n",
        "    lower, upper = rnge\n",
        "    positions = np.random.uniform(lower, upper, size=(pop_size, 2))\n",
        "    fitness = np.apply_along_axis(lambda pos: func(tuple(pos)), 1, positions)\n",
        "    best_index = np.argmin(fitness)\n",
        "    best_position = positions[best_index].copy()\n",
        "    best_value = fitness[best_index]\n",
        "    improvement_id = 0\n",
        "    yield \"g0000_i00000\", tuple(best_position)\n",
        "    # Main generational loop\n",
        "    for generation in range(1, generations + 1):\n",
        "        # Pairwise interactions: move dimmer fireflies toward brighter ones\n",
        "        for i in range(pop_size):\n",
        "            for j in range(pop_size):\n",
        "                if fitness[j] < fitness[i]:\n",
        "                    difference = positions[j] - positions[i]\n",
        "                    distance_sq = np.dot(difference, difference)\n",
        "                    beta = beta0 * np.exp(-gamma * distance_sq)\n",
        "                    random_step = np.random.uniform(-0.5, 0.5, size=2) * (upper - lower)\n",
        "                    candidate = positions[i] + beta * difference + alpha * random_step\n",
        "                    candidate = np.clip(candidate, lower, upper)\n",
        "                    candidate_value = func(tuple(candidate))\n",
        "                    # Always apply the update (no greedy acceptance gate)\n",
        "                    positions[i] = candidate\n",
        "                    fitness[i] = candidate_value\n",
        "                    if candidate_value < best_value:\n",
        "                        best_value = candidate_value\n",
        "                        best_position = candidate.copy()\n",
        "                        improvement_id += 1\n",
        "                        yield f\"g{generation:04d}_i{improvement_id:05d}\", tuple(best_position)\n",
        "        # Randomization parameter decay and global-best check\n",
        "        alpha *= alpha_decay\n",
        "        current_best_index = np.argmin(fitness)\n",
        "        if fitness[current_best_index] < best_value:\n",
        "            best_value = fitness[current_best_index]\n",
        "            best_position = positions[current_best_index].copy()\n",
        "            improvement_id += 1\n",
        "            yield f\"g{generation:04d}_i{improvement_id:05d}\", tuple(best_position)"
      ]
    },
    {
      "cell_type": "markdown",
      "id": "80a7dc99",
      "metadata": {},
      "source": [
        "#### Run the firefly algorithm and collect frames for multiple functions"
      ]
    },
    {
      "cell_type": "code",
      "execution_count": 3,
      "id": "ea81d3fc",
      "metadata": {},
      "outputs": [],
      "source": [
        "gif_folder_path = \"gifs/firefly\"\n",
        "os.makedirs(gif_folder_path, exist_ok=True)"
      ]
    },
    {
      "cell_type": "code",
      "execution_count": 4,
      "id": "e2e9a03d",
      "metadata": {},
      "outputs": [],
      "source": [
        "for func, params in TEST_FUNCTIONS.items():\n",
        "    print(f\"Test function: {func.__name__}\")\n",
        "    rnge = (params[0], params[1])\n",
        "    resolution = params[2]\n",
        "    for idx, point in firefly_algorithm(func, rnge):\n",
        "        frame = render_function_point(func, rnge=rnge, resolution=resolution, point=point, iteration=idx)\n",
        "        imageio.imwrite(os.path.join(gif_folder_path, f\"{func.__name__}_{idx}.png\"), frame)\n",
        "    collect_saved_frames(gif_folder_path, f\"{str.capitalize(func.__name__)}.gif\", fps=5)\n",
        "clear_output()"
      ]
    },
    {
      "cell_type": "markdown",
      "id": "9a4e11ed",
      "metadata": {},
      "source": [
        "#### Visualize the firefly algorithm on multiple functions"
      ]
    },
    {
      "cell_type": "markdown",
      "id": "bf3c6f9d",
      "metadata": {},
      "source": [
        "![Sphere](gifs/firefly/Sphere.gif)\n",
        "![Ackley](gifs/firefly/Ackley.gif)\n",
        "![Rastrigin](gifs/firefly/Rastrigin.gif)\n",
        "![Rosenbrock](gifs/firefly/Rosenbrock.gif)\n",
        "![Griewank](gifs/firefly/Griewank.gif)\n",
        "![Schwefel](gifs/firefly/Schwefel.gif)\n",
        "![Levy](gifs/firefly/Levy.gif)\n",
        "![Michalewicz](gifs/firefly/Michalewicz.gif)\n",
        "![Zakharov](gifs/firefly/Zakharov.gif)"
      ]
    }
  ],
  "metadata": {
    "kernelspec": {
      "display_name": ".pyenv",
      "language": "python",
      "name": "python3"
    },
    "language_info": {
      "codemirror_mode": {
        "name": "ipython",
        "version": 3
      },
      "file_extension": ".py",
      "mimetype": "text/x-python",
      "name": "python",
      "nbconvert_exporter": "python",
      "pygments_lexer": "ipython3",
      "version": "3.13.7"
    }
  },
  "nbformat": 4,
  "nbformat_minor": 5
}
