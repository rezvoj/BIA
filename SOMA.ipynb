{
  "cells": [
    {
      "cell_type": "code",
      "execution_count": 1,
      "id": "ea69ac3c",
      "metadata": {},
      "outputs": [],
      "source": [
        "import matplotlib, os\n",
        "import numpy as np\n",
        "import imageio.v3 as imageio\n",
        "from IPython.display import clear_output\n",
        "from shared.Render import collect_saved_frames, render_function_point\n",
        "from shared.TestFunctions import TEST_FUNCTIONS\n",
        "matplotlib.use('Agg')\n",
        "np.random.seed(42)"
      ]
    },
    {
      "cell_type": "markdown",
      "id": "c8c5b966",
      "metadata": {},
      "source": [
        "#### The SOMA AllToOne algorithm"
      ]
    },
    {
      "cell_type": "code",
      "execution_count": 2,
      "id": "957de144",
      "metadata": {},
      "outputs": [],
      "source": [
        "def soma_all_to_one(func, rnge, pop_size=30, prt=0.4, path_length=3.0, step=0.11, migrations=10):\n",
        "    # Population initialization and fitness evaluation\n",
        "    positions = np.random.uniform(rnge[0], rnge[1], size=(pop_size, 2))\n",
        "    fitness = np.apply_along_axis(lambda pos: func(tuple(pos)), 1, positions)\n",
        "    gbest_index = np.argmin(fitness)\n",
        "    gbest_position = positions[gbest_index].copy()\n",
        "    gbest_value = fitness[gbest_index]\n",
        "    iteration = 0\n",
        "    yield iteration, tuple(gbest_position)\n",
        "    # Migration loop\n",
        "    for _ in range(migrations):\n",
        "        gbest_index = np.argmin(fitness)\n",
        "        leader_position = positions[gbest_index].copy()\n",
        "        # Move each non-leader individual toward the leader\n",
        "        for i in range(pop_size):\n",
        "            if i == gbest_index:\n",
        "                continue\n",
        "            start_position = positions[i].copy()\n",
        "            best_local_pos = start_position.copy()\n",
        "            best_local_val = fitness[i]\n",
        "            # Sample PRT vector once per individual (canonical behavior)\n",
        "            prt_vector = (np.random.uniform(size=2) < prt).astype(float)\n",
        "            if not prt_vector.any():\n",
        "                prt_vector[np.random.randint(2)] = 1.0\n",
        "            # Step along the path toward the leader\n",
        "            for t in np.arange(step, path_length + step, step):\n",
        "                candidate = start_position + (leader_position - start_position) * t * prt_vector\n",
        "                candidate = np.clip(candidate, rnge[0], rnge[1])\n",
        "                value = func(tuple(candidate))\n",
        "                if value < best_local_val:\n",
        "                    best_local_val = value\n",
        "                    best_local_pos = candidate.copy()\n",
        "                if value < gbest_value:\n",
        "                    gbest_value = value\n",
        "                    gbest_position = candidate.copy()\n",
        "                    iteration += 1\n",
        "                    yield iteration, tuple(gbest_position)\n",
        "            positions[i] = best_local_pos\n",
        "            fitness[i] = best_local_val\n",
        "        # End-of-migration global best check\n",
        "        gbest_index = np.argmin(fitness)\n",
        "        if fitness[gbest_index] < gbest_value:\n",
        "            gbest_value = fitness[gbest_index]\n",
        "            gbest_position = positions[gbest_index].copy()\n",
        "            iteration += 1\n",
        "            yield iteration, tuple(gbest_position)"
      ]
    },
    {
      "cell_type": "markdown",
      "id": "80a7dc99",
      "metadata": {},
      "source": [
        "#### Run the SOMA AllToOne algorithm and collect frames for multiple functions"
      ]
    },
    {
      "cell_type": "code",
      "execution_count": 3,
      "id": "ea81d3fc",
      "metadata": {},
      "outputs": [],
      "source": [
        "gif_folder_path = \"gifs/soma_alltoone\"\n",
        "os.makedirs(gif_folder_path, exist_ok=True)"
      ]
    },
    {
      "cell_type": "code",
      "execution_count": 4,
      "id": "e2e9a03d",
      "metadata": {},
      "outputs": [],
      "source": [
        "for func, params in TEST_FUNCTIONS.items():\n",
        "    print(f\"Test function: {func.__name__}\")\n",
        "    rnge = (params[0], params[1])\n",
        "    resolution = params[2]\n",
        "    for idx, point in soma_all_to_one(func, rnge):\n",
        "        frame = render_function_point(func, rnge=rnge, resolution=resolution, point=point, iteration=idx)\n",
        "        imageio.imwrite(os.path.join(gif_folder_path, f\"{func.__name__}{idx:08d}.png\"), frame)\n",
        "    collect_saved_frames(gif_folder_path, f\"{str.capitalize(func.__name__)}.gif\", fps=5)\n",
        "clear_output()"
      ]
    },
    {
      "cell_type": "markdown",
      "id": "9a4e11ed",
      "metadata": {},
      "source": [
        "#### Visualize the SOMA AllToOne algorithm on multiple functions"
      ]
    },
    {
      "cell_type": "markdown",
      "id": "bf3c6f9d",
      "metadata": {},
      "source": [
        "![Sphere](gifs/soma_alltoone/Sphere.gif)\n",
        "![Ackley](gifs/soma_alltoone/Ackley.gif)\n",
        "![Rastrigin](gifs/soma_alltoone/Rastrigin.gif)\n",
        "![Rosenbrock](gifs/soma_alltoone/Rosenbrock.gif)\n",
        "![Griewank](gifs/soma_alltoone/Griewank.gif)\n",
        "![Schwefel](gifs/soma_alltoone/Schwefel.gif)\n",
        "![Levy](gifs/soma_alltoone/Levy.gif)\n",
        "![Michalewicz](gifs/soma_alltoone/Michalewicz.gif)\n",
        "![Zakharov](gifs/soma_alltoone/Zakharov.gif)"
      ]
    }
  ],
  "metadata": {
    "kernelspec": {
      "display_name": ".pyenv",
      "language": "python",
      "name": "python3"
    },
    "language_info": {
      "codemirror_mode": {
        "name": "ipython",
        "version": 3
      },
      "file_extension": ".py",
      "mimetype": "text/x-python",
      "name": "python",
      "nbconvert_exporter": "python",
      "pygments_lexer": "ipython3",
      "version": "3.13.7"
    }
  },
  "nbformat": 4,
  "nbformat_minor": 5
}
